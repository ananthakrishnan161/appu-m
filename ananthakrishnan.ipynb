{
  "nbformat": 4,
  "nbformat_minor": 0,
  "metadata": {
    "colab": {
      "provenance": []
    },
    "kernelspec": {
      "name": "python3",
      "display_name": "Python 3"
    },
    "language_info": {
      "name": "python"
    }
  },
  "cells": [
    {
      "cell_type": "code",
      "execution_count": null,
      "metadata": {
        "id": "ZN4aPjuaZNnr"
      },
      "outputs": [],
      "source": [
        "import pandas as pd"
      ]
    },
    {
      "cell_type": "code",
      "source": [
        "def find_second_largest(numbers):\n",
        "    # Ensure the list has at least two distinct numbers\n",
        "    if len(numbers) < 2:\n",
        "        raise ValueError(\"List must contain at least two distinct numbers\")\n",
        "\n",
        "    # Initialize the largest and second-largest variables\n",
        "    largest = second_largest = float('-inf')\n",
        "\n",
        "    # Iterate through the list\n",
        "    for number in numbers:\n",
        "        if number > largest:\n",
        "            # Update both largest and second largest\n",
        "            second_largest = largest\n",
        "            largest = number\n",
        "        elif number > second_largest and number != largest:\n",
        "            # Update second-largest only\n",
        "            second_largest = number\n",
        "\n",
        "    # Check if second_larges\n"
      ],
      "metadata": {
        "id": "zJebuFQwZkeY"
      },
      "execution_count": null,
      "outputs": []
    },
    {
      "cell_type": "code",
      "source": [
        "import random\n",
        "\n",
        "def simulate_coin_tosses(num_tosses):\n",
        "    results = {'Heads': 0, 'Tails': 0}\n",
        "\n",
        "    for _ in range(num_tosses):\n",
        "        # Simulate a coin toss\n",
        "        toss = random.choice(['Heads', 'Tails'])\n",
        "        results[toss] += 1\n",
        "\n",
        "    return results\n",
        "\n",
        "def main():\n",
        "    try:\n",
        "        # Get the number of tosses from the user\n",
        "        num_tosses = int(input(\"Enter the number of coin tosses: \"))\n",
        "        if num_tosses <= 0:\n",
        "            print(\"Please enter a positive integer.\")\n",
        "            return\n",
        "\n",
        "        # Simulate the coin tosses\n",
        "        results = simulate_coin_tosses(num_tosses)\n",
        "\n",
        "        # Print the results\n",
        "        print(f\"\\nResults after {num_tosses} tosses:\")\n",
        "        print(f\"Heads: {results['Heads']}\")\n",
        "        print(f\"Tails: {results['Tails']}\")\n",
        "\n",
        "    except ValueError:\n",
        "        print(\"Invalid input. Please enter a positive integer.\")\n",
        "\n",
        "if __name__ == \"__main__\":\n",
        "    main()\n"
      ],
      "metadata": {
        "colab": {
          "base_uri": "https://localhost:8080/"
        },
        "id": "re33T4MVZnGl",
        "outputId": "0bb8b7a6-b514-4924-d6f6-3dad50c37aa5"
      },
      "execution_count": null,
      "outputs": [
        {
          "output_type": "stream",
          "name": "stdout",
          "text": [
            "Enter the number of coin tosses: 2\n",
            "\n",
            "Results after 2 tosses:\n",
            "Heads: 0\n",
            "Tails: 2\n"
          ]
        }
      ]
    },
    {
      "cell_type": "code",
      "source": [],
      "metadata": {
        "id": "tj9RZUHHaTY1"
      },
      "execution_count": null,
      "outputs": []
    }
  ]
}